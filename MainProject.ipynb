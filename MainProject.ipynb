{
  "nbformat": 4,
  "nbformat_minor": 0,
  "metadata": {
    "colab": {
      "name": "MainProject.ipynb",
      "provenance": []
    },
    "kernelspec": {
      "name": "python3",
      "display_name": "Python 3"
    },
    "accelerator": "GPU"
  },
  "cells": [
    {
      "cell_type": "code",
      "metadata": {
        "id": "ANLAGD_UEe3j",
        "colab_type": "code",
        "colab": {
          "base_uri": "https://localhost:8080/",
          "height": 121
        },
        "outputId": "c646c572-f4eb-4b26-e6f8-fa26bc07ca17"
      },
      "source": [
        "from google.colab import drive\n",
        "drive.mount('/content/drive')"
      ],
      "execution_count": null,
      "outputs": [
        {
          "output_type": "stream",
          "text": [
            "Go to this URL in a browser: https://accounts.google.com/o/oauth2/auth?client_id=947318989803-6bn6qk8qdgf4n4g3pfee6491hc0brc4i.apps.googleusercontent.com&redirect_uri=urn%3aietf%3awg%3aoauth%3a2.0%3aoob&response_type=code&scope=email%20https%3a%2f%2fwww.googleapis.com%2fauth%2fdocs.test%20https%3a%2f%2fwww.googleapis.com%2fauth%2fdrive%20https%3a%2f%2fwww.googleapis.com%2fauth%2fdrive.photos.readonly%20https%3a%2f%2fwww.googleapis.com%2fauth%2fpeopleapi.readonly\n",
            "\n",
            "Enter your authorization code:\n",
            "··········\n",
            "Mounted at /content/drive\n"
          ],
          "name": "stdout"
        }
      ]
    },
    {
      "cell_type": "code",
      "metadata": {
        "id": "_j_nMhkacJ3n",
        "colab_type": "code",
        "colab": {}
      },
      "source": [
        "import sys\n",
        "sys.path.append('/content/drive/My Drive/Colab Notebooks/Real_gtzan.keras/src')"
      ],
      "execution_count": null,
      "outputs": []
    },
    {
      "cell_type": "code",
      "metadata": {
        "id": "vcliVqolH0nY",
        "colab_type": "code",
        "colab": {
          "base_uri": "https://localhost:8080/",
          "height": 67
        },
        "outputId": "ac7c6664-6ed6-476d-fdc5-0c53c29c5cd7"
      },
      "source": [
        "!ls \"/content/drive/My Drive/Colab Notebooks/genres/\""
      ],
      "execution_count": null,
      "outputs": [
        {
          "output_type": "stream",
          "text": [
            "bextract_single.mf  classical  country\thi.mf\t  ja.mf  metal\treggae\tro.mf\n",
            "bl.mf\t\t    cl.mf      di.mf\thiphop\t  jazz\t po.mf\tre.mf\n",
            "blues\t\t    co.mf      disco\tinput.mf  me.mf  pop\trock\n"
          ],
          "name": "stdout"
        }
      ]
    },
    {
      "cell_type": "code",
      "metadata": {
        "id": "AxLC_Q0VZ6ei",
        "colab_type": "code",
        "colab": {
          "base_uri": "https://localhost:8080/",
          "height": 62
        },
        "outputId": "02fcc773-a938-49c9-e641-a0354ab84db0"
      },
      "source": [
        "import tensorflow  as tf\n",
        "tf.logging.set_verbosity(tf.logging.ERROR)"
      ],
      "execution_count": null,
      "outputs": [
        {
          "output_type": "display_data",
          "data": {
            "text/html": [
              "<p style=\"color: red;\">\n",
              "The default version of TensorFlow in Colab will soon switch to TensorFlow 2.x.<br>\n",
              "We recommend you <a href=\"https://www.tensorflow.org/guide/migrate\" target=\"_blank\">upgrade</a> now \n",
              "or ensure your notebook will continue to use TensorFlow 1.x via the <code>%tensorflow_version 1.x</code> magic:\n",
              "<a href=\"https://colab.research.google.com/notebooks/tensorflow_version.ipynb\" target=\"_blank\">more info</a>.</p>\n"
            ],
            "text/plain": [
              "<IPython.core.display.HTML object>"
            ]
          },
          "metadata": {
            "tags": []
          }
        }
      ]
    },
    {
      "cell_type": "code",
      "metadata": {
        "id": "4cwkxsCMntQF",
        "colab_type": "code",
        "colab": {}
      },
      "source": [
        "#Making song data_set-------------------------------------------\n",
        "import os\n",
        "import librosa\n",
        "import itertools\n",
        "import numpy as np\n",
        "import pandas as pd\n",
        "from scipy.stats import kurtosis\n",
        "from scipy.stats import skew\n"
      ],
      "execution_count": null,
      "outputs": []
    },
    {
      "cell_type": "code",
      "metadata": {
        "id": "-TwmOOlxn4fa",
        "colab_type": "code",
        "colab": {}
      },
      "source": [
        ""
      ],
      "execution_count": null,
      "outputs": []
    },
    {
      "cell_type": "code",
      "metadata": {
        "id": "hBXfmYhooG0E",
        "colab_type": "code",
        "colab": {}
      },
      "source": [
        "\n",
        "\"\"\"\n",
        "@description: Method to split a song into multiple songs using overlapping windows\n",
        "\"\"\"\n",
        "def splitsongs(X, overlap = 0.5):\n",
        "    # Empty lists to hold our results\n",
        "    temp_X = []\n",
        "\n",
        "    # Get the input song array size\n",
        "    xshape = X.shape[0]\n",
        "    chunk = 33000\n",
        "    offset = int(chunk*(1.-overlap))\n",
        "    \n",
        "    # Split the song and create new ones on windows\n",
        "    spsong = [X[i:i+chunk] for i in range(0, xshape - chunk + offset, offset)]\n",
        "    for s in spsong:\n",
        "        if s.shape[0] != chunk:\n",
        "            continue\n",
        "\n",
        "        temp_X.append(s)\n",
        "\n",
        "    return np.array(temp_X)\n",
        "\n",
        "\"\"\"\n",
        "@description: Method to convert a list of songs to a np array of melspectrograms\n",
        "\"\"\"\n",
        "def to_melspectrogram(songs, n_fft=1024, hop_length=256):\n",
        "    # Transformation function\n",
        "    melspec = lambda x: librosa.feature.melspectrogram(x, n_fft=n_fft,\n",
        "        hop_length=hop_length, n_mels=128)[:,:,np.newaxis]\n",
        "\n",
        "    # map transformation of input songs to melspectrogram using log-scale\n",
        "    tsongs = map(melspec, songs)\n",
        "    # np.array([librosa.power_to_db(s, ref=np.max) for s in list(tsongs)])\n",
        "    return np.array(list(tsongs))\n"
      ],
      "execution_count": null,
      "outputs": []
    },
    {
      "cell_type": "code",
      "metadata": {
        "id": "ncsumslVoM0F",
        "colab_type": "code",
        "colab": {}
      },
      "source": [
        "def make_dataset_dl(song):\n",
        "    # Convert to spectrograms and split into small windows\n",
        "    signal, sr = librosa.load(song, sr=None)\n",
        "\n",
        "    # Convert to dataset of spectograms/melspectograms\n",
        "    signals = splitsongs(signal)\n",
        "\n",
        "    # Convert to \"spec\" representation\n",
        "    specs = to_melspectrogram(signals)\n",
        "\n",
        "    return specs\n",
        "#Completed Making DataSet------------------------"
      ],
      "execution_count": null,
      "outputs": []
    },
    {
      "cell_type": "code",
      "metadata": {
        "id": "8dhFmKhioVbH",
        "colab_type": "code",
        "colab": {}
      },
      "source": [
        "#Extracting Majority Voting----------------\n",
        "import numpy as np\n"
      ],
      "execution_count": null,
      "outputs": []
    },
    {
      "cell_type": "code",
      "metadata": {
        "id": "-xnGUMsool6l",
        "colab_type": "code",
        "colab": {}
      },
      "source": [
        "def majority_voting(scores, dict_genres):\n",
        "    preds = np.argmax(scores, axis = 1)\n",
        "    values, counts = np.unique(preds, return_counts=True)\n",
        "    counts = np.round(counts/np.sum(counts), 2)\n",
        "    votes = {k:v for k, v in zip(values, counts)}\n",
        "    votes = {k: v for k, v in sorted(votes.items(), key=lambda item: item[1], reverse=True)}\n",
        "    return [(get_genres(x, dict_genres), prob) for x, prob in votes.items()]\n"
      ],
      "execution_count": null,
      "outputs": []
    },
    {
      "cell_type": "code",
      "metadata": {
        "id": "sgqIOwoLopBs",
        "colab_type": "code",
        "colab": {}
      },
      "source": [
        "def get_genres(key, dict_genres):\n",
        "    # Transforming data to help on transformation\n",
        "    labels = []\n",
        "    tmp_genre = {v:k for k,v in dict_genres.items()}\n",
        "\n",
        "    return tmp_genre[key]"
      ],
      "execution_count": null,
      "outputs": []
    },
    {
      "cell_type": "code",
      "metadata": {
        "id": "XEIFYmBEXSwO",
        "colab_type": "code",
        "colab": {}
      },
      "source": [
        "\n",
        "from joblib import load\n",
        "from tensorflow.keras.models import load_model"
      ],
      "execution_count": null,
      "outputs": []
    },
    {
      "cell_type": "code",
      "metadata": {
        "id": "hcFIrU22dUY0",
        "colab_type": "code",
        "colab": {}
      },
      "source": [
        "genres = {\n",
        "    'metal': 0, 'disco': 1, 'classical': 2, 'hiphop': 3, 'jazz': 4, \n",
        "    'country': 5, 'pop': 6, 'blues': 7, 'reggae': 8, 'rock': 9\n",
        "}"
      ],
      "execution_count": null,
      "outputs": []
    },
    {
      "cell_type": "code",
      "metadata": {
        "id": "XGMlS-IBdVdv",
        "colab_type": "code",
        "colab": {}
      },
      "source": [
        "song=\"/content/drive/My Drive/Colab Notebooks/Samajavaragamana.mp3\"\n",
        "model=\"/content/drive/My Drive/Colab Notebooks/Real_gtzan.keras/models/custom_cnn_2d.h5\""
      ],
      "execution_count": null,
      "outputs": []
    },
    {
      "cell_type": "code",
      "metadata": {
        "id": "lKQJJQ65cFL8",
        "colab_type": "code",
        "colab": {
          "base_uri": "https://localhost:8080/",
          "height": 34
        },
        "outputId": "c7e311a5-6dad-4964-c527-cc0da472925e"
      },
      "source": [
        "ss=song.split(\"Colab Notebooks/\",1)[1]\n",
        "print(ss)"
      ],
      "execution_count": null,
      "outputs": [
        {
          "output_type": "stream",
          "text": [
            "Samajavaragamana.mp3\n"
          ],
          "name": "stdout"
        }
      ]
    },
    {
      "cell_type": "code",
      "metadata": {
        "id": "DjcobTX9gxJh",
        "colab_type": "code",
        "colab": {}
      },
      "source": [
        "def dl_run(song,model,genres):\n",
        "            X = make_dataset_dl(song)\n",
        "            ss=song.split(\"Colab Notebooks\",1)[1]\n",
        "            model = load_model(model)\n",
        "            preds = model.predict(X)\n",
        "            votes = majority_voting(preds, genres)\n",
        "            print(\"{} is a {} song\".format(ss[1:], votes[0][0]))\n",
        "            print(\"most likely genres are: {}\".format(votes[:3]))"
      ],
      "execution_count": null,
      "outputs": []
    },
    {
      "cell_type": "code",
      "metadata": {
        "id": "j2f_pxJ_hE5C",
        "colab_type": "code",
        "colab": {
          "base_uri": "https://localhost:8080/",
          "height": 50
        },
        "outputId": "91ff1cd6-7616-4423-e9b3-ed4a48340bc7"
      },
      "source": [
        "dl_run(song,model,genres)     "
      ],
      "execution_count": null,
      "outputs": [
        {
          "output_type": "stream",
          "text": [
            "Samajavaragamana.mp3 is a blues song\n",
            "most likely genres are: [('blues', 0.61), ('rock', 0.15), ('country', 0.1)]\n"
          ],
          "name": "stdout"
        }
      ]
    },
    {
      "cell_type": "code",
      "metadata": {
        "id": "mvP29FQYViai",
        "colab_type": "code",
        "colab": {}
      },
      "source": [
        ""
      ],
      "execution_count": null,
      "outputs": []
    }
  ]
}